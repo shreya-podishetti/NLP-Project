{
 "cells": [
  {
   "cell_type": "markdown",
   "metadata": {},
   "source": [
    "# Milestone I Natural Language Processing\n",
    "## Task 2&3\n",
    "\n",
    "\n",
    "Date: 19th May 2024\n",
    "\n",
    "Version: 1.0\n",
    "\n",
    "Environment: Python 3 and Jupyter notebook\n",
    "\n",
    "Libraries used: \n",
    "* pandas\n",
    "* re\n",
    "* numpy\n",
    "* json\n",
    "* sklearn\n",
    "\n",
    "## Introduction\n",
    "In this digital world, job hunting is done through popular websites such as 'seek.com.au' and 'au.indeed.com'. These websites allow job searchers to search for their required positions using keywords, salaray ranges, company names, and job categories. From the sides of employers who post these jobs, the categorisation of job advertisements is done manually which often leads in jobs being incorrectly categorised and hence reducing their job visibility and their chance to gather suitable candidates.\n",
    "\n",
    "With the goal to eliminate these issues, automated job classification systems incorporate Natural Language Processing (NLP) for increasing viability. These systems suggest suitable categories based on the textual content of the job advertisements, which increase accuracy by reducing human errors which in turn enhances the overall user experience on popular job hunting websites. The project aims to develop an automated job advertisement classification system though three key milestones. "
   ]
  },
  {
   "cell_type": "markdown",
   "metadata": {},
   "source": [
    "## Importing libraries "
   ]
  },
  {
   "cell_type": "code",
   "execution_count": 1,
   "metadata": {},
   "outputs": [],
   "source": [
    "# Code to import libraries as you need in this assessment\n",
    "\n",
    "import pandas as pd\n",
    "import numpy as np\n",
    "import json\n",
    "from sklearn.datasets import load_files\n",
    "from sklearn.feature_extraction.text import CountVectorizer\n",
    "from sklearn.feature_extraction.text import TfidfVectorizer\n",
    "from sklearn.model_selection import train_test_split\n",
    "from sklearn.linear_model import LogisticRegression\n",
    "from sklearn.metrics import accuracy_score\n",
    "from sklearn.model_selection import cross_val_score\n",
    "from sklearn.preprocessing import StandardScaler\n",
    "from sklearn.pipeline import make_pipeline\n",
    "from sklearn.metrics import accuracy_score, confusion_matrix\n",
    "from sklearn.model_selection import KFold"
   ]
  },
  {
   "cell_type": "markdown",
   "metadata": {},
   "source": [
    "## Task 2. Generating Feature Representations for Job Advertisement Descriptions"
   ]
  },
  {
   "cell_type": "markdown",
   "metadata": {},
   "source": [
    "The objective of Task 2 is to generate three different types of feature representations for the job advertisement data. The primary focus of this task relies on the job description content and involves the following feature representations.\n",
    "\n",
    "1. Count Vector from Bag-of-Words Model\n",
    "* Generating the count vector representation for each job advertisement description using the vocabulary generated from the previous task 1.\n",
    "* The generated count vector is daved into a file with the name 'count_vectors.txt' in the specified format.\n",
    "\n",
    "2. Un-Weighted Vector Representation \n",
    "* Generating an un-weighted feature representation based on the choosen Glove embedding language model for each job advertisement description.\n",
    "\n",
    "3. Weighted Vector Representation\n",
    "* Generating a weighted feature representation (TF-IDF weighted) based on the Glove embedding for each job advertisement description.\n",
    "\n",
    "From this Task 2, three feature representations are generated to store the textual information of job advertisements. The Bag-of-words model and word embedding models (both weighted and unweighted) are used in creating the representations. These deatures are utilised as a foundation for the classification models that are to be developed in Task 3."
   ]
  },
  {
   "cell_type": "code",
   "execution_count": 2,
   "metadata": {},
   "outputs": [
    {
     "name": "stdout",
     "output_type": "stream",
     "text": [
      "Loaded 776 job advertisements.\n",
      "Loaded vocabulary with 5168 words.\n"
     ]
    }
   ],
   "source": [
    "# Loading job data from file\n",
    "with open('jobs_data.txt', 'r', encoding='utf-8') as file:\n",
    "    jobs = [json.loads(line.strip()) for line in file]\n",
    "\n",
    "# Printing the length of jobs variable\n",
    "print(f\"Loaded {len(jobs)} job advertisements.\")\n",
    "\n",
    "# Loading vocabulary from vocab.txt\n",
    "vocab = {}\n",
    "with open('vocab1.txt', 'r', encoding='utf-8') as file:\n",
    "    for line in file:\n",
    "        word, index = line.strip().split(':')\n",
    "        vocab[word] = int(index)\n",
    "\n",
    "# Printing the length of the vocabulary\n",
    "print(f\"Loaded vocabulary with {len(vocab)} words.\")"
   ]
  },
  {
   "cell_type": "markdown",
   "metadata": {},
   "source": [
    "#### Generating the Count vector representation for each job advertisement description, and saving them into a file "
   ]
  },
  {
   "cell_type": "code",
   "execution_count": 3,
   "metadata": {},
   "outputs": [
    {
     "name": "stdout",
     "output_type": "stream",
     "text": [
      "Generated Count vectors with shape: (776, 5168)\n"
     ]
    }
   ],
   "source": [
    "class CustomCountVectorizer(CountVectorizer):\n",
    "    def __init__(self, vocabulary):\n",
    "        super().__init__(vocabulary=vocabulary)\n",
    "        self.fixed_vocab = vocabulary\n",
    "\n",
    "    def build_analyzer(self):\n",
    "        analyzer = super().build_analyzer()\n",
    "        return lambda doc: [word for word in analyzer(doc) if word in self.fixed_vocab]\n",
    "\n",
    "# Creating the vectorizer using the fixed vocabulary\n",
    "vectorizer = CustomCountVectorizer(vocabulary=vocab)\n",
    "descriptions = [job['description'] for job in jobs]\n",
    "X = vectorizer.fit_transform(descriptions)\n",
    "\n",
    "# Printing the dimensions of the generated count vector on the provided vocabulary\n",
    "print(f\"Generated Count vectors with shape: {X.shape}\")"
   ]
  },
  {
   "cell_type": "code",
   "execution_count": 4,
   "metadata": {},
   "outputs": [
    {
     "name": "stdout",
     "output_type": "stream",
     "text": [
      "  (0, 33)\t3\n",
      "  (0, 36)\t3\n",
      "  (0, 93)\t1\n",
      "  (0, 102)\t1\n",
      "  (0, 667)\t1\n",
      "  (0, 707)\t1\n",
      "  (0, 874)\t1\n",
      "  (0, 910)\t1\n",
      "  (0, 1003)\t1\n",
      "  (0, 1059)\t2\n",
      "  (0, 1145)\t2\n",
      "  (0, 1184)\t1\n",
      "  (0, 1221)\t1\n",
      "  (0, 1465)\t1\n",
      "  (0, 1484)\t2\n",
      "  (0, 1542)\t1\n",
      "  (0, 1706)\t1\n",
      "  (0, 1965)\t1\n",
      "  (0, 2113)\t2\n",
      "  (0, 2287)\t1\n",
      "  (0, 2652)\t2\n",
      "  (0, 2671)\t1\n",
      "  (0, 2750)\t2\n",
      "  (0, 2828)\t1\n",
      "  (0, 2998)\t1\n",
      "  :\t:\n",
      "  (775, 3700)\t1\n",
      "  (775, 3712)\t1\n",
      "  (775, 3822)\t1\n",
      "  (775, 3825)\t1\n",
      "  (775, 3943)\t1\n",
      "  (775, 3978)\t1\n",
      "  (775, 4108)\t1\n",
      "  (775, 4228)\t1\n",
      "  (775, 4245)\t1\n",
      "  (775, 4246)\t1\n",
      "  (775, 4250)\t1\n",
      "  (775, 4316)\t1\n",
      "  (775, 4362)\t1\n",
      "  (775, 4381)\t2\n",
      "  (775, 4400)\t1\n",
      "  (775, 4574)\t1\n",
      "  (775, 4606)\t4\n",
      "  (775, 4661)\t1\n",
      "  (775, 4769)\t1\n",
      "  (775, 4784)\t1\n",
      "  (775, 5031)\t1\n",
      "  (775, 5116)\t1\n",
      "  (775, 5135)\t1\n",
      "  (775, 5149)\t1\n",
      "  (775, 5158)\t1\n"
     ]
    }
   ],
   "source": [
    "# Printing the count vector\n",
    "print(X)"
   ]
  },
  {
   "cell_type": "markdown",
   "metadata": {},
   "source": [
    "#### Generating Embedding Representations"
   ]
  },
  {
   "cell_type": "code",
   "execution_count": 5,
   "metadata": {},
   "outputs": [],
   "source": [
    "# Loading the GloVe vectors \n",
    "glove_vectors = {}\n",
    "with open('glove.6B.100d.txt', 'r', encoding='utf-8') as file:\n",
    "    for line in file:\n",
    "        parts = line.strip().split()\n",
    "        word = parts[0]\n",
    "        vector = np.array(parts[1:], dtype=np.float32)\n",
    "        glove_vectors[word] = vector"
   ]
  },
  {
   "cell_type": "code",
   "execution_count": 6,
   "metadata": {},
   "outputs": [],
   "source": [
    "# Function to get the Unweighted and TF-IDF Weighted Vectors\n",
    "def get_embedding_vector(words, glove_vectors, dimension=100):\n",
    "    valid_vectors = [glove_vectors[word] for word in words if word in glove_vectors]\n",
    "    if not valid_vectors:\n",
    "        return np.zeros(dimension)\n",
    "    return np.mean(valid_vectors, axis=0)"
   ]
  },
  {
   "cell_type": "code",
   "execution_count": 7,
   "metadata": {},
   "outputs": [
    {
     "name": "stdout",
     "output_type": "stream",
     "text": [
      "Unweighted vectors generated with shape: (776, 100)\n"
     ]
    }
   ],
   "source": [
    "unweighted_vectors = np.array([get_embedding_vector(description.split(), glove_vectors) for description in descriptions])\n",
    "print(\"Unweighted vectors generated with shape:\", unweighted_vectors.shape)"
   ]
  },
  {
   "cell_type": "code",
   "execution_count": 8,
   "metadata": {},
   "outputs": [],
   "source": [
    "tfidf_vectorizer = TfidfVectorizer(vocabulary=vocab)\n",
    "X_tfidf = tfidf_vectorizer.fit_transform(descriptions)"
   ]
  },
  {
   "cell_type": "code",
   "execution_count": 9,
   "metadata": {},
   "outputs": [],
   "source": [
    "# Function to get the weighted and TF-IDF Weighted Vectors\n",
    "def get_weighted_embedding_vector(words, glove_vectors, tfidf_weights, dimension=100):\n",
    "    weighted_vectors = [glove_vectors[word] * tfidf_weights[word] for word in words if word in glove_vectors and word in tfidf_weights]\n",
    "    if not weighted_vectors:\n",
    "        return np.zeros(dimension)\n",
    "    return np.sum(weighted_vectors, axis=0)"
   ]
  },
  {
   "cell_type": "code",
   "execution_count": 10,
   "metadata": {},
   "outputs": [
    {
     "name": "stdout",
     "output_type": "stream",
     "text": [
      "Generated embedding vectors.\n"
     ]
    }
   ],
   "source": [
    "tfidf_feature_names = tfidf_vectorizer.get_feature_names_out()\n",
    "tfidf_weights = {word: X_tfidf.getcol(idx).sum() for idx, word in enumerate(tfidf_feature_names)}\n",
    "weighted_vectors = np.array([get_weighted_embedding_vector(description.split(), glove_vectors, tfidf_weights) for description in descriptions])\n",
    "\n",
    "print(\"Generated embedding vectors.\")"
   ]
  },
  {
   "cell_type": "code",
   "execution_count": 11,
   "metadata": {},
   "outputs": [
    {
     "name": "stdout",
     "output_type": "stream",
     "text": [
      "[[-0.04912045  0.1376341   0.22746836 ... -0.34143266  0.62064427\n",
      "   0.11939637]\n",
      " [-0.06473587  0.10273527  0.25368887 ... -0.35303521  0.70322967\n",
      "   0.18740758]\n",
      " [-0.06994386  0.0646083   0.32060853 ... -0.27763915  0.69806057\n",
      "   0.13404632]\n",
      " ...\n",
      " [-0.08307941  0.18765688  0.2116605  ... -0.34932116  0.69542122\n",
      "   0.12397347]\n",
      " [-0.17813943  0.19519177  0.21691367 ... -0.36683658  0.61642939\n",
      "   0.1164631 ]\n",
      " [-0.11345082  0.19725028  0.30904442 ... -0.32620427  0.60280424\n",
      "   0.20378558]]\n"
     ]
    }
   ],
   "source": [
    "# Printing the unweighted feature vectors\n",
    "print(unweighted_vectors)"
   ]
  },
  {
   "cell_type": "code",
   "execution_count": 12,
   "metadata": {},
   "outputs": [
    {
     "name": "stdout",
     "output_type": "stream",
     "text": [
      "[[   5.41078234   18.38315964   16.81437874 ...  -36.32561493\n",
      "    63.68174362   -5.48943996]\n",
      " [  -3.44215202    8.61388683    3.97029996 ...  -25.54211426\n",
      "    52.24055099    6.60615873]\n",
      " [  -1.84602094   31.83216476    9.18902683 ...  -40.07767487\n",
      "    97.75092316   17.04796791]\n",
      " ...\n",
      " [  29.52369881   95.40268707  -16.31616592 ... -169.52568054\n",
      "   408.30224609  181.97721863]\n",
      " [ -50.54840088   15.13054371   22.09374237 ...  -16.19872665\n",
      "   159.48765564  -22.54460907]\n",
      " [   7.0368495    16.6568985    36.71109009 ...  -54.77024841\n",
      "   138.07923889   27.94131851]]\n"
     ]
    }
   ],
   "source": [
    "# Printing the weighted feature vectors\n",
    "print(weighted_vectors)"
   ]
  },
  {
   "cell_type": "markdown",
   "metadata": {},
   "source": [
    "### Saving outputs\n",
    "Saving the count vector representation as per spectification.\n",
    "- count_vectors.txt"
   ]
  },
  {
   "cell_type": "code",
   "execution_count": 13,
   "metadata": {},
   "outputs": [],
   "source": [
    "# code to save output data\n",
    "# Function to save the count vector generated in the provided format\n",
    "def save_count_vectors(X, jobs, vocab, output_file):\n",
    "    reverse_vocab = {v: k for k, v in vocab.items()}  \n",
    "    \n",
    "    with open(output_file, 'w', encoding='utf-8') as f:\n",
    "        for idx, row in enumerate(X):\n",
    "            row = row.tocoo()\n",
    "            counts = {reverse_vocab[i]: row.data[j] for j, i in enumerate(row.col)}\n",
    "            counts_str = ', '.join(f\"{vocab[word]}:{counts[word]}\" for word in sorted(counts.keys(), key=lambda x: vocab[x]))\n",
    "            f.write(f\"#{jobs[idx]['webIndex']}, {counts_str}\\n\")"
   ]
  },
  {
   "cell_type": "code",
   "execution_count": 14,
   "metadata": {},
   "outputs": [
    {
     "name": "stdout",
     "output_type": "stream",
     "text": [
      "Count vectors saved to count_vectors.txt\n"
     ]
    }
   ],
   "source": [
    "# Saving to count_vectors.txt\n",
    "save_count_vectors(X, jobs, vocab, 'count_vectors.txt')\n",
    "print(\"Count vectors saved to count_vectors.txt\")"
   ]
  },
  {
   "cell_type": "markdown",
   "metadata": {},
   "source": [
    "## Task 3. Job Advertisement Classification"
   ]
  },
  {
   "cell_type": "markdown",
   "metadata": {},
   "source": [
    "The task 3 focuses on building and evaluating ML models for classifying the category of the pre-processed advertisements. The two main parts of this task and research questions addressed are discussed below.\n",
    "\n",
    "Question 1:\n",
    "* Objective: To determine which among the three language models generated in task 2 performs the best when trained on the Logistic Regression ML model\n",
    "* Approach: The count vector, unweighted embedding vector, and TF-IDF weighted embedding vectors generated in the task 2 are used to train and evaluate the job data\n",
    "* Evaluation: The 5-fold cross-validation are utilised to evaluate the perfromance of each model\n",
    "\n",
    "Question 2:\n",
    "* Objective: To explore whether additional information such as adding the job title improves the classification accuracy of the model.\n",
    "* Approach: Conducting an experiment using three different feature sets mentioned below:\n",
    "    * Only job title\n",
    "    * Only the job description\n",
    "    * Both the job title and description\n",
    "* Evaluation: The 5-fold cross-validation is used to compare the performance of models built with different feature sets\n",
    "\n",
    "The finding from this task provide insights to effectiveness of the three different feature representations and the advantages of concatenating additional job-related information."
   ]
  },
  {
   "cell_type": "code",
   "execution_count": 15,
   "metadata": {},
   "outputs": [],
   "source": [
    "# Extracting the labels\n",
    "labels = [job['targetLabel'] for job in jobs]\n",
    "\n",
    "# Spliting the data for training and testing\n",
    "X_train_count, X_test_count, y_train, y_test = train_test_split(X, labels, test_size=0.2, random_state=42)\n",
    "X_train_unweighted, X_test_unweighted = train_test_split(unweighted_vectors, test_size=0.2, random_state=42)\n",
    "X_train_weighted, X_test_weighted = train_test_split(weighted_vectors, test_size=0.2, random_state=42)"
   ]
  },
  {
   "cell_type": "code",
   "execution_count": 16,
   "metadata": {},
   "outputs": [],
   "source": [
    "# Function to train and evaluate model with scaling\n",
    "def train_evaluate_model(X, y, max_iter=5000, solver='saga'):\n",
    "    X_train, X_test, y_train, y_test = train_test_split(X, y, test_size=0.2, random_state=42)\n",
    "    pipeline = make_pipeline(StandardScaler(with_mean=False), LogisticRegression(max_iter=max_iter, random_state=42, solver=solver))\n",
    "    pipeline.fit(X_train, y_train)\n",
    "    y_pred = pipeline.predict(X_test)\n",
    "    accuracy = accuracy_score(y_test, y_pred)\n",
    "    return accuracy, pipeline, X_test, y_test, y_pred"
   ]
  },
  {
   "cell_type": "markdown",
   "metadata": {},
   "source": [
    "#### Q1"
   ]
  },
  {
   "cell_type": "markdown",
   "metadata": {},
   "source": [
    "The results of accuracy from training the data on logistic regression model gave rise to the following values:\n",
    "* count vector : 85%\n",
    "* unweighted embedding vector : 78%\n",
    "* weighted embedding vector : 70%\n",
    "\n",
    "Further to evaluate these vectors, the 5-fold cross validation method is utilised to bring in the improved values below:\n",
    "* count vector : 87%\n",
    "* unweighted embedding vector : 78%\n",
    "* weighted embedding vector : 71%\n",
    "\n",
    "From analysing the confusion metrix and the evaluation values, it is decided that the count vector much be used for the next section of this task due to its high performance amongst the other representations.\n",
    "\n",
    "The code explaining the above observations is displayed below."
   ]
  },
  {
   "cell_type": "code",
   "execution_count": 17,
   "metadata": {},
   "outputs": [
    {
     "name": "stdout",
     "output_type": "stream",
     "text": [
      "Accuracy using Count Vectors: 0.8589743589743589\n",
      "Accuracy using Unweighted Embedding Vectors: 0.7884615384615384\n",
      "Accuracy using TF-IDF Weighted Embedding Vectors: 0.7051282051282052\n"
     ]
    }
   ],
   "source": [
    "# Evaluating the Count Vectors\n",
    "accuracy_count, model_count, X_test_count, y_test_count, y_pred_count = train_evaluate_model(X, labels)\n",
    "print(f\"Accuracy using Count Vectors: {accuracy_count}\")\n",
    "\n",
    "# Evaluating the Unweighted Embedding Vectors\n",
    "accuracy_unweighted, model_unweighted, X_test_unweighted, y_test_unweighted, y_pred_unweighted = train_evaluate_model(unweighted_vectors, labels)\n",
    "print(f\"Accuracy using Unweighted Embedding Vectors: {accuracy_unweighted}\")\n",
    "\n",
    "# Evaluating the TF-IDF Weighted Embedding Vectors\n",
    "accuracy_weighted, model_weighted, X_test_weighted, y_test_weighted, y_pred_weighted = train_evaluate_model(weighted_vectors, labels)\n",
    "print(f\"Accuracy using TF-IDF Weighted Embedding Vectors: {accuracy_weighted}\")"
   ]
  },
  {
   "cell_type": "code",
   "execution_count": 18,
   "metadata": {},
   "outputs": [
    {
     "data": {
      "image/png": "[encoded data removed]",
      "text/plain": [
       "<Figure size 1000x700 with 2 Axes>"
      ]
     },
     "metadata": {},
     "output_type": "display_data"
    }
   ],
   "source": [
    "import matplotlib.pyplot as plt\n",
    "import seaborn as sns\n",
    "\n",
    "# function to plot the confusion matrix for one of the models\n",
    "def plot_confusion_matrix(y_test, y_pred, labels):\n",
    "    conf_mat = confusion_matrix(y_test, y_pred)\n",
    "    categories = sorted(list(set(labels)))  \n",
    "    \n",
    "    plt.figure(figsize=(10, 7))\n",
    "    sns.heatmap(conf_mat, annot=True, fmt='d', cmap='Blues',\n",
    "                xticklabels=categories, yticklabels=categories)\n",
    "    plt.ylabel('Actual')\n",
    "    plt.xlabel('Predicted')\n",
    "    plt.title('Confusion Matrix')\n",
    "    plt.show()\n",
    "\n",
    "# Ploting confusion matrix for the count vector model\n",
    "plot_confusion_matrix(y_test_count, y_pred_count, labels)"
   ]
  },
  {
   "cell_type": "code",
   "execution_count": 19,
   "metadata": {},
   "outputs": [],
   "source": [
    "# Initialising the variables\n",
    "seed = 15\n",
    "num_folds = 5\n",
    "kf = KFold(n_splits=num_folds, random_state=seed, shuffle=True)\n",
    "\n",
    "# Defining the evaluation function\n",
    "def evaluate(X_train, X_test, y_train, y_test, seed, max_iter=5000, solver='saga'):\n",
    "    pipeline = make_pipeline(StandardScaler(with_mean=False), LogisticRegression(random_state=seed, max_iter=max_iter, solver=solver))\n",
    "    pipeline.fit(X_train, y_train)\n",
    "    return pipeline.score(X_test, y_test)\n",
    "\n",
    "# Creating a DataFrame to store results\n",
    "cv_df = pd.DataFrame(columns=['count', 'unweighted', 'tfidf'], index=range(num_folds))\n",
    "\n",
    "# Performing 5-fold cross-validation\n",
    "fold = 0\n",
    "for train_index, test_index in kf.split(list(range(0, len(labels)))):\n",
    "    y_train = [labels[i] for i in train_index]\n",
    "    y_test = [labels[i] for i in test_index]\n",
    "\n",
    "    # Evaluating the Count Vectors\n",
    "    X_train_count, X_test_count = X[train_index], X[test_index]\n",
    "    cv_df.loc[fold, 'count'] = evaluate(X_train_count, X_test_count, y_train, y_test, seed)\n",
    "    \n",
    "    # Evaluating the Unweighted Embedding Vectors\n",
    "    X_train_unweighted, X_test_unweighted = unweighted_vectors[train_index], unweighted_vectors[test_index]\n",
    "    cv_df.loc[fold, 'unweighted'] = evaluate(X_train_unweighted, X_test_unweighted, y_train, y_test, seed)\n",
    "    \n",
    "    # Evaluating the TF-IDF Weighted Embedding Vectors\n",
    "    X_train_tfidf, X_test_tfidf = weighted_vectors[train_index], weighted_vectors[test_index]\n",
    "    cv_df.loc[fold, 'tfidf'] = evaluate(X_train_tfidf, X_test_tfidf, y_train, y_test, seed)\n",
    "    \n",
    "    fold += 1"
   ]
  },
  {
   "cell_type": "code",
   "execution_count": 20,
   "metadata": {},
   "outputs": [
    {
     "data": {
      "text/html": [
       "<div>\n",
       "<style scoped>\n",
       "    .dataframe tbody tr th:only-of-type {\n",
       "        vertical-align: middle;\n",
       "    }\n",
       "\n",
       "    .dataframe tbody tr th {\n",
       "        vertical-align: top;\n",
       "    }\n",
       "\n",
       "    .dataframe thead th {\n",
       "        text-align: right;\n",
       "    }\n",
       "</style>\n",
       "<table border=\"1\" class=\"dataframe\">\n",
       "  <thead>\n",
       "    <tr style=\"text-align: right;\">\n",
       "      <th></th>\n",
       "      <th>count</th>\n",
       "      <th>unweighted</th>\n",
       "      <th>tfidf</th>\n",
       "    </tr>\n",
       "  </thead>\n",
       "  <tbody>\n",
       "    <tr>\n",
       "      <th>0</th>\n",
       "      <td>0.858974</td>\n",
       "      <td>0.801282</td>\n",
       "      <td>0.724359</td>\n",
       "    </tr>\n",
       "    <tr>\n",
       "      <th>1</th>\n",
       "      <td>0.890323</td>\n",
       "      <td>0.76129</td>\n",
       "      <td>0.741935</td>\n",
       "    </tr>\n",
       "    <tr>\n",
       "      <th>2</th>\n",
       "      <td>0.864516</td>\n",
       "      <td>0.774194</td>\n",
       "      <td>0.690323</td>\n",
       "    </tr>\n",
       "    <tr>\n",
       "      <th>3</th>\n",
       "      <td>0.883871</td>\n",
       "      <td>0.76129</td>\n",
       "      <td>0.677419</td>\n",
       "    </tr>\n",
       "    <tr>\n",
       "      <th>4</th>\n",
       "      <td>0.858065</td>\n",
       "      <td>0.819355</td>\n",
       "      <td>0.76129</td>\n",
       "    </tr>\n",
       "  </tbody>\n",
       "</table>\n",
       "</div>"
      ],
      "text/plain": [
       "      count unweighted     tfidf\n",
       "0  0.858974   0.801282  0.724359\n",
       "1  0.890323    0.76129  0.741935\n",
       "2  0.864516   0.774194  0.690323\n",
       "3  0.883871    0.76129  0.677419\n",
       "4  0.858065   0.819355   0.76129"
      ]
     },
     "execution_count": 20,
     "metadata": {},
     "output_type": "execute_result"
    }
   ],
   "source": [
    "# Printing the results\n",
    "cv_df"
   ]
  },
  {
   "cell_type": "code",
   "execution_count": 21,
   "metadata": {},
   "outputs": [
    {
     "data": {
      "text/plain": [
       "count         0.871150\n",
       "unweighted    0.783482\n",
       "tfidf         0.719065\n",
       "dtype: float64"
      ]
     },
     "execution_count": 21,
     "metadata": {},
     "output_type": "execute_result"
    }
   ],
   "source": [
    "# Printing the mean results\n",
    "cv_df.mean()"
   ]
  },
  {
   "cell_type": "markdown",
   "metadata": {},
   "source": [
    "#### Q2\n",
    "By exploring how the count vector represenation is working on different kinds of data such as only titles, only descriptions, and the combined title and descriptions, the following values have been derived based on their accuracies.\n",
    "* Titles only : 80%\n",
    "* Descriptions only : 87%\n",
    "* Both titles and descriptions : 86%\n",
    "\n",
    "These accuracy results show that the descriptions alone and the combined titles and descriptions show a higher rate of accuracy that that of the titles alone. Futher exploration shows that the description data alone has the highest accuracy in prediction with the performance model. The resultant observations are:\n",
    "* Titles data alone does not work best of the performance of the ML model.\n",
    "* Descriptions only and the combined title and description data show almost similar performance whereas the descriptions only performs better by 1% of accuracy.\n",
    "* This concludes that having extra information does help in boosting the model performance however this might be true in all the cases.\n",
    "\n",
    "The steps below show the code to the observations gained."
   ]
  },
  {
   "cell_type": "code",
   "execution_count": 22,
   "metadata": {},
   "outputs": [
    {
     "name": "stdout",
     "output_type": "stream",
     "text": [
      "Title vectors shape: (776, 989)\n",
      "Description vectors shape: (776, 9935)\n",
      "Combined vectors shape: (776, 10000)\n"
     ]
    }
   ],
   "source": [
    "# Extracting titles, descriptions, and combined text\n",
    "titles = [job['title'] for job in jobs]\n",
    "descriptions = [job['description'] for job in jobs]\n",
    "combined_texts = [job['title'] + ' ' + job['description'] for job in jobs]\n",
    "labels = [job['targetLabel'] for job in jobs]\n",
    "\n",
    "# Initialising CountVectorizer\n",
    "vectorizer = CountVectorizer()\n",
    "\n",
    "# Generating Count Vectors\n",
    "X_titles = vectorizer.fit_transform(titles)\n",
    "X_descriptions = vectorizer.fit_transform(descriptions)\n",
    "X_combined = vectorizer.fit_transform(combined_texts)\n",
    "\n",
    "print(f\"Title vectors shape: {X_titles.shape}\")\n",
    "print(f\"Description vectors shape: {X_descriptions.shape}\")\n",
    "print(f\"Combined vectors shape: {X_combined.shape}\")\n"
   ]
  },
  {
   "cell_type": "code",
   "execution_count": 23,
   "metadata": {},
   "outputs": [],
   "source": [
    "# Initialising the variables\n",
    "seed = 15\n",
    "num_folds = 5\n",
    "kf = KFold(n_splits=num_folds, random_state=seed, shuffle=True)\n",
    "\n",
    "# Defining the evaluation function\n",
    "def evaluate(X_train, X_test, y_train, y_test, seed, max_iter=5000, solver='saga'):\n",
    "    pipeline = make_pipeline(StandardScaler(with_mean=False), LogisticRegression(random_state=seed, max_iter=max_iter, solver=solver))\n",
    "    pipeline.fit(X_train, y_train)\n",
    "    return pipeline.score(X_test, y_test)\n",
    "\n",
    "# Creating a DataFrame to store results\n",
    "cv_df = pd.DataFrame(columns=['titles', 'descriptions', 'combined'], index=range(num_folds))\n",
    "\n",
    "# Performing 5-fold cross-validation\n",
    "fold = 0\n",
    "for train_index, test_index in kf.split(list(range(0, len(labels)))):\n",
    "    y_train = [labels[i] for i in train_index]\n",
    "    y_test = [labels[i] for i in test_index]\n",
    "\n",
    "    # Evaluating Title Vectors\n",
    "    X_train_titles, X_test_titles = X_titles[train_index], X_titles[test_index]\n",
    "    cv_df.loc[fold, 'titles'] = evaluate(X_train_titles, X_test_titles, y_train, y_test, seed)\n",
    "    \n",
    "    # Evaluating Description Vectors\n",
    "    X_train_descriptions, X_test_descriptions = X_descriptions[train_index], X_descriptions[test_index]\n",
    "    cv_df.loc[fold, 'descriptions'] = evaluate(X_train_descriptions, X_test_descriptions, y_train, y_test, seed)\n",
    "    \n",
    "    # Evaluating Combined Vectors\n",
    "    X_train_combined, X_test_combined = X_combined[train_index], X_combined[test_index]\n",
    "    cv_df.loc[fold, 'combined'] = evaluate(X_train_combined, X_test_combined, y_train, y_test, seed)\n",
    "    \n",
    "    fold += 1"
   ]
  },
  {
   "cell_type": "code",
   "execution_count": 24,
   "metadata": {},
   "outputs": [
    {
     "name": "stdout",
     "output_type": "stream",
     "text": [
      "     titles descriptions  combined\n",
      "0  0.801282     0.852564  0.858974\n",
      "1       0.8     0.883871  0.890323\n",
      "2  0.825806     0.877419  0.870968\n",
      "3  0.787097     0.883871  0.877419\n",
      "4  0.793548     0.858065  0.851613\n"
     ]
    }
   ],
   "source": [
    "# Displaying the results\n",
    "print(cv_df)"
   ]
  },
  {
   "cell_type": "code",
   "execution_count": 25,
   "metadata": {},
   "outputs": [
    {
     "name": "stdout",
     "output_type": "stream",
     "text": [
      "titles          0.801547\n",
      "descriptions    0.871158\n",
      "combined        0.869859\n",
      "dtype: float64\n"
     ]
    }
   ],
   "source": [
    "# Displaying the mean of results\n",
    "print(cv_df.mean())"
   ]
  },
  {
   "cell_type": "markdown",
   "metadata": {},
   "source": [
    "## Summary\n",
    "The aim of this project through tasks 2 and 3, aim to improve the process of job advertisement classification using NLP techniques. This includes generation of diverse feature representations and evaluation of the classification models with the goal to improve the accuracy and efficiency of job classsification on job hunting platforms. These insights contibute to the development of robust automated job classification system, benefitting both job seekers and employers by providing better job matching and visibility."
   ]
  }
 ],
 "metadata": {
  "kernelspec": {
   "display_name": "Python 3 (ipykernel)",
   "language": "python",
   "name": "python3"
  },
  "language_info": {
   "codemirror_mode": {
    "name": "ipython",
    "version": 3
   },
   "file_extension": ".py",
   "mimetype": "text/x-python",
   "name": "python",
   "nbconvert_exporter": "python",
   "pygments_lexer": "ipython3",
   "version": "3.11.3"
  }
 },
 "nbformat": 4,
 "nbformat_minor": 1
}
